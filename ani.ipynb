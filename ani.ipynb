{
 "cells": [
  {
   "cell_type": "markdown",
   "metadata": {},
   "source": [
    "# Parallel ANI (average-nucleotide-identity) calculation \n",
    "* Compute between all input fasta file format microbial genome\n",
    "* ANI calculation with MUMmer dnadiff\n",
    "* CLI with argparse, parallelization with multiprocessing"
   ]
  },
  {
   "cell_type": "code",
   "execution_count": 1,
   "metadata": {},
   "outputs": [
    {
     "name": "stdout",
     "output_type": "stream",
     "text": [
      "ani.ipynb\tgenome2.fasta  genome5.fasta  genome8.fasta\r\n",
      "genome10.fasta\tgenome3.fasta  genome6.fasta  genome9.fasta\r\n",
      "genome1.fasta\tgenome4.fasta  genome7.fasta  pani.py\r\n"
     ]
    }
   ],
   "source": [
    "!ls"
   ]
  },
  {
   "cell_type": "code",
   "execution_count": null,
   "metadata": {},
   "outputs": [],
   "source": [
    "!./pani.py -o output.out -t 4 genome1.fasta genome2.fasta genome3.fasta genome4.fasta genome5.fasta genome6.fasta genome7.fasta genome8.fasta genome9.fasta genome10.fasta"
   ]
  },
  {
   "cell_type": "code",
   "execution_count": 3,
   "metadata": {},
   "outputs": [
    {
     "name": "stdout",
     "output_type": "stream",
     "text": [
      "ani.ipynb\tgenome2.fasta  genome5.fasta  genome8.fasta  pani.py\r\n",
      "genome10.fasta\tgenome3.fasta  genome6.fasta  genome9.fasta\r\n",
      "genome1.fasta\tgenome4.fasta  genome7.fasta  output.out\r\n"
     ]
    }
   ],
   "source": [
    "!ls"
   ]
  },
  {
   "cell_type": "markdown",
   "metadata": {},
   "source": [
    "Displaying symmetric pairwise distance ANI matrix, written to output file"
   ]
  },
  {
   "cell_type": "code",
   "execution_count": 4,
   "metadata": {},
   "outputs": [
    {
     "name": "stdout",
     "output_type": "stream",
     "text": [
      "100\t99.89\t99.95\t99.85\t99.79\t99.89\t99.81\t99.87\t99.84\t99.90\r\n",
      "99.89\t100\t99.88\t99.87\t99.79\t99.93\t99.80\t99.94\t99.85\t99.95\r\n",
      "99.95\t99.88\t100\t99.84\t99.80\t99.88\t99.79\t99.89\t99.80\t99.89\r\n",
      "99.85\t99.87\t99.84\t100\t99.86\t99.84\t99.84\t99.86\t99.84\t99.86\r\n",
      "99.79\t99.79\t99.80\t99.86\t100\t99.80\t99.95\t99.81\t99.87\t99.81\r\n",
      "99.89\t99.93\t99.88\t99.84\t99.80\t100\t99.80\t99.92\t99.81\t99.92\r\n",
      "99.81\t99.80\t99.79\t99.84\t99.95\t99.80\t100\t99.79\t99.87\t99.81\r\n",
      "99.87\t99.94\t99.89\t99.86\t99.81\t99.92\t99.79\t100\t99.82\t99.93\r\n",
      "99.84\t99.85\t99.80\t99.84\t99.87\t99.81\t99.87\t99.82\t100\t99.83\r\n",
      "99.90\t99.95\t99.89\t99.86\t99.81\t99.92\t99.81\t99.93\t99.83\t100\t"
     ]
    }
   ],
   "source": [
    "!cat output.out"
   ]
  }
 ],
 "metadata": {
  "kernelspec": {
   "display_name": "Python 3",
   "language": "python",
   "name": "python3"
  },
  "language_info": {
   "codemirror_mode": {
    "name": "ipython",
    "version": 3
   },
   "file_extension": ".py",
   "mimetype": "text/x-python",
   "name": "python",
   "nbconvert_exporter": "python",
   "pygments_lexer": "ipython3",
   "version": "3.8.5"
  }
 },
 "nbformat": 4,
 "nbformat_minor": 4
}
